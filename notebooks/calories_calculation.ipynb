{
 "cells": [
  {
   "cell_type": "markdown",
   "metadata": {},
   "source": [
    "## **Calories Calculation**"
   ]
  },
  {
   "cell_type": "code",
   "execution_count": 1,
   "metadata": {},
   "outputs": [],
   "source": [
    "import requests"
   ]
  },
  {
   "cell_type": "code",
   "execution_count": 2,
   "metadata": {},
   "outputs": [],
   "source": [
    "api_key = \"NslJtHA1MkQVNjmbe0eLrQ==O5nch3BtVgUgim3b\"\n",
    "query = \"Granny Smith\"\n",
    "api_url = 'https://api.api-ninjas.com/v1/nutrition?query={}'.format(query)\n",
    "\n",
    "# Make GET request with API key\n",
    "response = requests.get(api_url, headers={'X-Api-Key': api_key})"
   ]
  },
  {
   "cell_type": "code",
   "execution_count": 3,
   "metadata": {},
   "outputs": [
    {
     "data": {
      "text/plain": [
       "<Response [200]>"
      ]
     },
     "execution_count": 3,
     "metadata": {},
     "output_type": "execute_result"
    }
   ],
   "source": [
    "response"
   ]
  },
  {
   "cell_type": "code",
   "execution_count": 4,
   "metadata": {},
   "outputs": [
    {
     "data": {
      "text/plain": [
       "200"
      ]
     },
     "execution_count": 4,
     "metadata": {},
     "output_type": "execute_result"
    }
   ],
   "source": [
    "response.status_code"
   ]
  },
  {
   "cell_type": "code",
   "execution_count": 5,
   "metadata": {},
   "outputs": [
    {
     "data": {
      "text/plain": [
       "200"
      ]
     },
     "execution_count": 5,
     "metadata": {},
     "output_type": "execute_result"
    }
   ],
   "source": [
    "requests.codes.ok"
   ]
  },
  {
   "cell_type": "code",
   "execution_count": 6,
   "metadata": {},
   "outputs": [
    {
     "ename": "SyntaxError",
     "evalue": "'return' outside function (70274208.py, line 8)",
     "output_type": "error",
     "traceback": [
      "\u001b[1;36m  Cell \u001b[1;32mIn[6], line 8\u001b[1;36m\u001b[0m\n\u001b[1;33m    return filtered_nutrition_info\u001b[0m\n\u001b[1;37m    ^\u001b[0m\n\u001b[1;31mSyntaxError\u001b[0m\u001b[1;31m:\u001b[0m 'return' outside function\n"
     ]
    }
   ],
   "source": [
    "if response.status_code == requests.codes.ok:\n",
    "    raw_nutrition_info = response.json()\n",
    "    # Filter out fields with the value \"Only available for premium subscribers.\"\n",
    "    filtered_nutrition_info = []\n",
    "    for item in raw_nutrition_info:\n",
    "        filtered_item = {k: v for k, v in item.items() if v != \"Only available for premium subscribers.\"}\n",
    "        filtered_nutrition_info.append(filtered_item)\n",
    "    return filtered_nutrition_info\n",
    "else:\n",
    "    return {\"Error\": response.status_code, \"Message\": response.text}"
   ]
  },
  {
   "cell_type": "code",
   "execution_count": 7,
   "metadata": {},
   "outputs": [],
   "source": [
    "def get_calories(food_name):\n",
    "    \"\"\"Get the calorie information of the identified food item, excluding unavailable data.\"\"\"\n",
    "    api_url = 'https://api.api-ninjas.com/v1/nutrition?query={}'.format(food_name)\n",
    "    response = requests.get(api_url, headers={'X-Api-Key': api_key})\n",
    "\n",
    "    if response.status_code == requests.codes.ok:\n",
    "        raw_nutrition_info = response.json()\n",
    "        # Filter out fields with the value \"Only available for premium subscribers.\"\n",
    "        filtered_nutrition_info = []\n",
    "        for item in raw_nutrition_info:\n",
    "            filtered_item = {k: v for k, v in item.items() if v != \"Only available for premium subscribers.\"}\n",
    "            filtered_nutrition_info.append(filtered_item)\n",
    "        return filtered_nutrition_info\n",
    "    else:\n",
    "        return {\"Error\": response.status_code, \"Message\": response.text}"
   ]
  },
  {
   "cell_type": "code",
   "execution_count": 9,
   "metadata": {},
   "outputs": [],
   "source": [
    "output = get_calories(\"Granny Smith\")"
   ]
  },
  {
   "cell_type": "code",
   "execution_count": 11,
   "metadata": {},
   "outputs": [],
   "source": [
    "def format_nutrition_info(nutrition_info):\n",
    "    \"\"\"Format the nutritional information into an HTML table.\"\"\"\n",
    "    if \"Error\" in nutrition_info:\n",
    "        return f\"Error: {nutrition_info['Error']} - {nutrition_info['Message']}\"\n",
    "    \n",
    "    if len(nutrition_info) == 0:\n",
    "        return \"No nutritional information found.\"\n",
    "\n",
    "    nutrition_data = nutrition_info[0]\n",
    "    table = f\"\"\"\n",
    "    <table border=\"1\" style=\"width: 100%; border-collapse: collapse;\">\n",
    "        <tr><th colspan=\"2\" style=\"text-align: center;\"><b>Nutrition Facts</b></th></tr>\n",
    "        <tr><td colspan=\"2\" style=\"text-align: center;\"><b>Food Name: {nutrition_data['name']}</b></td></tr>\n",
    "        <tr>\n",
    "            <td style=\"text-align: left;\"><b>Total Fat (g)</b></td><td style=\"text-align: right;\">{nutrition_data['fat_total_g']}</td>\n",
    "        </tr>\n",
    "        <tr>\n",
    "            <td style=\"text-align: left;\"><b>Saturated Fat (g)</b></td><td style=\"text-align: right;\">{nutrition_data['fat_saturated_g']}</td>\n",
    "        </tr>\n",
    "        <tr>\n",
    "            <td style=\"text-align: left;\"><b>Sodium (mg)</b></td><td style=\"text-align: right;\">{nutrition_data['sodium_mg']}</td>\n",
    "        </tr>\n",
    "        <tr>\n",
    "            <td style=\"text-align: left;\"><b>Potassium (mg)</b></td><td style=\"text-align: right;\">{nutrition_data['potassium_mg']}</td>\n",
    "        </tr>\n",
    "        <tr>\n",
    "            <td style=\"text-align: left;\"><b>Cholesterol (mg)</b></td><td style=\"text-align: right;\">{nutrition_data['cholesterol_mg']}</td>\n",
    "        </tr>\n",
    "        <tr>\n",
    "            <td style=\"text-align: left;\"><b>Total Carbohydrates (g)</b></td><td style=\"text-align: right;\">{nutrition_data['carbohydrates_total_g']}</td>\n",
    "        </tr>\n",
    "        <tr>\n",
    "            <td style=\"text-align: left;\"><b>Fiber (g)</b></td><td style=\"text-align: right;\">{nutrition_data['fiber_g']}</td>\n",
    "        </tr>\n",
    "        <tr>\n",
    "            <td style=\"text-align: left;\"><b>Sugar (g)</b></td><td style=\"text-align: right;\">{nutrition_data['sugar_g']}</td>\n",
    "        </tr>\n",
    "    </table>\n",
    "    \"\"\"\n",
    "    return table\n"
   ]
  },
  {
   "cell_type": "code",
   "execution_count": 12,
   "metadata": {},
   "outputs": [
    {
     "data": {
      "text/plain": [
       "'\\n    <table border=\"1\" style=\"width: 100%; border-collapse: collapse;\">\\n        <tr><th colspan=\"2\" style=\"text-align: center;\"><b>Nutrition Facts</b></th></tr>\\n        <tr><td colspan=\"2\" style=\"text-align: center;\"><b>Food Name: granny smith</b></td></tr>\\n        <tr>\\n            <td style=\"text-align: left;\"><b>Total Fat (g)</b></td><td style=\"text-align: right;\">0.2</td>\\n        </tr>\\n        <tr>\\n            <td style=\"text-align: left;\"><b>Saturated Fat (g)</b></td><td style=\"text-align: right;\">0.0</td>\\n        </tr>\\n        <tr>\\n            <td style=\"text-align: left;\"><b>Sodium (mg)</b></td><td style=\"text-align: right;\">1</td>\\n        </tr>\\n        <tr>\\n            <td style=\"text-align: left;\"><b>Potassium (mg)</b></td><td style=\"text-align: right;\">12</td>\\n        </tr>\\n        <tr>\\n            <td style=\"text-align: left;\"><b>Cholesterol (mg)</b></td><td style=\"text-align: right;\">0</td>\\n        </tr>\\n        <tr>\\n            <td style=\"text-align: left;\"><b>Total Carbohydrates (g)</b></td><td style=\"text-align: right;\">13.4</td>\\n        </tr>\\n        <tr>\\n            <td style=\"text-align: left;\"><b>Fiber (g)</b></td><td style=\"text-align: right;\">2.8</td>\\n        </tr>\\n        <tr>\\n            <td style=\"text-align: left;\"><b>Sugar (g)</b></td><td style=\"text-align: right;\">9.5</td>\\n        </tr>\\n    </table>\\n    '"
      ]
     },
     "execution_count": 12,
     "metadata": {},
     "output_type": "execute_result"
    }
   ],
   "source": [
    "format_nutrition_info(output)"
   ]
  },
  {
   "cell_type": "code",
   "execution_count": null,
   "metadata": {},
   "outputs": [],
   "source": []
  }
 ],
 "metadata": {
  "kernelspec": {
   "display_name": "Python 3",
   "language": "python",
   "name": "python3"
  },
  "language_info": {
   "codemirror_mode": {
    "name": "ipython",
    "version": 3
   },
   "file_extension": ".py",
   "mimetype": "text/x-python",
   "name": "python",
   "nbconvert_exporter": "python",
   "pygments_lexer": "ipython3",
   "version": "3.10.0"
  }
 },
 "nbformat": 4,
 "nbformat_minor": 2
}
